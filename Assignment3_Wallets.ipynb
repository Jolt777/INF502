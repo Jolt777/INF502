{
 "cells": [
  {
   "cell_type": "code",
   "execution_count": 7,
   "metadata": {},
   "outputs": [],
   "source": [
    "#Note: Run each cell in order from top to bottom\n",
    "\n",
    "# Execute a command (a string) in a subshell\n",
    "import os"
   ]
  },
  {
   "cell_type": "code",
   "execution_count": 8,
   "metadata": {},
   "outputs": [],
   "source": [
    "# The purpose of this function is to create a title card along with a single sentence, explaining the objective\n",
    "def wallets():\n",
    "    os.system('clear')\n",
    "    print(\"\\t********************************************\")\n",
    "    print(\"\\t**************** WALLETS!!! ****************\")\n",
    "    print(\"\\t********************************************\")\n",
    "    print(\"\\n\\n\\n\") #3 line breaks\n",
    "    print(\"You are requested to provide 5 numbers representing the value in cash stored in 5 different wallets.\")"
   ]
  },
  {
   "cell_type": "code",
   "execution_count": 9,
   "metadata": {},
   "outputs": [],
   "source": [
    "# This function is built to take the sum of the 5 values and convert it from dollars to dimes.\n",
    "def converter(dollars):\n",
    "    dime = 10\n",
    "    d_total = int((dollars * 100) / dime)\n",
    "    print(\"All together, the total value of these wallets is worth \", d_total, \" dimes.\")"
   ]
  },
  {
   "cell_type": "code",
   "execution_count": 10,
   "metadata": {},
   "outputs": [
    {
     "name": "stdout",
     "output_type": "stream",
     "text": [
      "\t********************************************\n",
      "\t*WALLETS!!!*\n",
      "\t********************************************\n",
      "\n",
      "\n",
      "\n",
      "\n",
      "You are requested to provide 5 numbers representing the value in cash stored in 5 different wallets.\n",
      "Enter Number: 1\n",
      "Enter Number: 2\n",
      "Enter Number: 3\n",
      "Enter Number: 4\n",
      "Enter Number: 5\n",
      "Here are the five values entered, each representing an amount in a different wallet:  [1, 2, 3, 4, 5]\n",
      "The fattest wallet has $ 5  in it.\n",
      "The skinnest wallet has $ 1  in it.\n",
      "All together, these wallets have $ 15 in them.\n",
      "All together, the total value of these wallets is worth  150  dimes.\n",
      "Thanks for using our application\n"
     ]
    }
   ],
   "source": [
    "collection = [] #empty list to store the 5 values\n",
    "x = range(5) #range() function returns a sequence of numbers (in this case, 0 to 4) and stops before a specified number (in this case, 4).\n",
    "\n",
    "# A \"for\" loop is installed after the wallets() function, reading each numner in the range of 0 to 4. The loop closes when it reachers 4.\n",
    "# For every number in the range, the user enters one value. The value is added to the list titled \"collection\" using append().\n",
    "\n",
    "#while(True) assures Python the loop goes on forever unitl a \"break\" mechanism is encountered.\n",
    "while (True):\n",
    "    wallets() #wallet function is inserted here\n",
    "    for n in x:\n",
    "        nums = int(input(\"Enter Number: \"))\n",
    "        collection.append(nums)\n",
    "    print(\"Here are the five values entered, each representing an amount in a different wallet: \", collection)\n",
    "    print(\"The fattest wallet has $\", max(collection), \" in it.\") #max() function grabs the largest value in \"collection\"\n",
    "    print(\"The skinnest wallet has $\", min(collection), \" in it.\") #min() function grabs the smallest value in \"collection\"\n",
    "    print(\"All together, these wallets have $\", sum(collection), \"in them.\") #sum() function adds up all 5 values in \"collection\"\n",
    "    converter(sum(collection)) #converter function is inserted here.\n",
    "    print(\"Thanks for using our application\")\n",
    "    break"
   ]
  },
  {
   "cell_type": "code",
   "execution_count": null,
   "metadata": {},
   "outputs": [],
   "source": []
  }
 ],
 "metadata": {
  "kernelspec": {
   "display_name": "Python 3",
   "language": "python",
   "name": "python3"
  },
  "language_info": {
   "codemirror_mode": {
    "name": "ipython",
    "version": 3
   },
   "file_extension": ".py",
   "mimetype": "text/x-python",
   "name": "python",
   "nbconvert_exporter": "python",
   "pygments_lexer": "ipython3",
   "version": "3.8.3"
  }
 },
 "nbformat": 4,
 "nbformat_minor": 4
}
